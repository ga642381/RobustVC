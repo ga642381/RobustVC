{
 "cells": [
  {
   "cell_type": "code",
   "execution_count": 1,
   "id": "3d193474-16d0-4d97-a0fe-62dc68108115",
   "metadata": {},
   "outputs": [],
   "source": [
    "import json"
   ]
  },
  {
   "cell_type": "code",
   "execution_count": 4,
   "id": "2f2d1866-d9ae-45d6-bbaa-d6e9a8ebb304",
   "metadata": {},
   "outputs": [],
   "source": [
    "metadata_path = \"../metadata/VCTK_to_VCTK.json\""
   ]
  },
  {
   "cell_type": "code",
   "execution_count": 5,
   "id": "6ff32c40-1486-4c61-b614-b9e8731f4596",
   "metadata": {},
   "outputs": [],
   "source": [
    "metadata = json.load(open(metadata_path))"
   ]
  },
  {
   "cell_type": "code",
   "execution_count": 15,
   "id": "56963f8d-745e-4287-9462-14317008e87b",
   "metadata": {},
   "outputs": [
    {
     "data": {
      "text/plain": [
       "[{'source_speaker': 'p252',\n",
       "  'target_speaker': 'p251',\n",
       "  'src_utt': 'wav48/p252/p252_324.wav',\n",
       "  'tgt_utts': ['wav48/p251/p251_096.wav'],\n",
       "  'content': 'The report will go before the Scottish Parliament, probably in early autumn.\\n',\n",
       "  'src_second': 7.979546485260771}]"
      ]
     },
     "execution_count": 15,
     "metadata": {},
     "output_type": "execute_result"
    }
   ],
   "source": [
    "list(filter((lambda x : x['source_speaker'] == \"p252\"),metadata[\"pairs\"][:2] ))"
   ]
  },
  {
   "cell_type": "code",
   "execution_count": null,
   "id": "02cf739a-2674-430d-ba1e-cedab0c4ae12",
   "metadata": {},
   "outputs": [],
   "source": []
  }
 ],
 "metadata": {
  "kernelspec": {
   "display_name": "Python 3 (ipykernel)",
   "language": "python",
   "name": "python3"
  },
  "language_info": {
   "codemirror_mode": {
    "name": "ipython",
    "version": 3
   },
   "file_extension": ".py",
   "mimetype": "text/x-python",
   "name": "python",
   "nbconvert_exporter": "python",
   "pygments_lexer": "ipython3",
   "version": "3.8.10"
  }
 },
 "nbformat": 4,
 "nbformat_minor": 5
}
